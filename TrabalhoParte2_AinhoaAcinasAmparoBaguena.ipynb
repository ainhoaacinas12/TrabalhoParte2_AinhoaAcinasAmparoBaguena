{
 "cells": [
  {
   "cell_type": "markdown",
   "id": "c5bb8ba5-1c79-459c-8820-4939454a18d9",
   "metadata": {},
   "source": [
    "## Trabalho Parte 2 - Alunas: Ainhoa Acinas Amparo Báguena"
   ]
  },
  {
   "cell_type": "markdown",
   "id": "38ea6d97-5623-4fcb-a59c-8a0f5f37e95e",
   "metadata": {},
   "source": [
    "Primeiro, carregamos as bibliotecas que usaremos ao longo do código."
   ]
  },
  {
   "cell_type": "code",
   "execution_count": 3,
   "id": "1b88a78b-9cb8-4257-b4fb-8dd5d4084842",
   "metadata": {},
   "outputs": [],
   "source": [
    "import os\n",
    "import scipy.io\n",
    "import numpy as np\n",
    "import tensorflow as tf\n",
    "from tensorflow.keras.preprocessing.image import ImageDataGenerator\n",
    "from tensorflow.keras.applications import ResNet50\n",
    "from tensorflow.keras import layers, models\n",
    "from sklearn.metrics import classification_report, confusion_matrix\n",
    "import matplotlib.pyplot as plt"
   ]
  },
  {
   "cell_type": "markdown",
   "id": "97ba4cce-871c-433e-92b3-7a887e230a2b",
   "metadata": {},
   "source": [
    "O banco de dados  \"17 Flores \" contém imagens de flores de 17 categorias diferentes, com 80 imagens por categoria. As imagens foram obtidas pesquisando na web e tirando fotos. O arquivo  \"datasplits.mat \" especifica as divisões de dados usadas no artigo de Nilsback e Zisserman (2006) para a classificação de flores. Este arquivo contém três divisões (splits) de dados, cada uma com um arquivo de treinamento (trn1, trn2, trn3), validação (val1, val2, val3) e teste (tst1, tst2 ou tst3). \n",
    "\n",
    "Começamos definindo o caminho para esses dois arquivos, para que possamos trabalhar com eles.\n",
    "\n",
    "Link datos: https://www.robots.ox.ac.uk/~vgg/data/flowers/17/\n"
   ]
  },
  {
   "cell_type": "code",
   "execution_count": 4,
   "id": "e95e4773-5380-45d3-b6b3-664ec1e16fcb",
   "metadata": {},
   "outputs": [],
   "source": [
    "# Ruta de las carpetas\n",
    "data_dir = \"C:/Users/ainho/Documents/UTAD/DeepLearning/TrabalhoParte2_AinhoaAcinasAmparoBaguena/Datos/17flowers\"\n",
    "split_file = \"C:/Users/ainho/Documents/UTAD/DeepLearning/TrabalhoParte2_AinhoaAcinasAmparoBaguena/Datos/datasplits.mat\"\n"
   ]
  },
  {
   "cell_type": "markdown",
   "id": "cb520a56-734c-4dfd-8757-658bb423f0d1",
   "metadata": {},
   "source": [
    "Este fragmento de código carrega as divisões dos dados (treinamento, validação e teste) a partir de um arquivo . mat usando scipy.io.loadmat(). Como índices no MATLAB começam em 1, eles são ajustados subtraindo 1 a cada índice para que sejam compatíveis com o Python. Então todas as imagens são obtidas em formato . jpg do diretório especificado, gerando uma lista de caminhos completos para os arquivos em ordem alfabética. Essas etapas preparam os dados para uso posterior no modelo, garantindo que as imagens e índices de divisão estejam corretamente alinhados."
   ]
  },
  {
   "cell_type": "code",
   "execution_count": 5,
   "id": "ffc305e4-1b39-4838-979b-bef96fdf861c",
   "metadata": {},
   "outputs": [],
   "source": [
    "# Cargar las divisiones\n",
    "data_splits = scipy.io.loadmat(split_file)\n",
    "train_idx = data_splits['trn1'][0] - 1  # Los índices en Matlab empiezan en 1\n",
    "val_idx = data_splits['val1'][0] - 1\n",
    "test_idx = data_splits['tst1'][0] - 1\n",
    "\n",
    "# Obtener todas las imágenes\n",
    "image_files = sorted([os.path.join(data_dir, f) for f in os.listdir(data_dir) if f.endswith(\".jpg\")])\n"
   ]
  },
  {
   "cell_type": "markdown",
   "id": "1d3b88a8-29ab-4380-9f39-bd56351f2a12",
   "metadata": {},
   "source": [
    "Este código realiza duas tarefas principais. Primeiro, divide as imagens em três conjuntos (treinamento, validação e teste) usando os índices pré-carregados. Para cada conjunto, selecionamos os arquivos de imagem correspondentes através da compreensão de listas, atribuindo a train_files, val_files e test_files as imagens que correspondem a cada divisão. \n",
    "\n",
    "Em segundo lugar, cria um dicionário chamado categories, que atribui a cada número de 0 a 16 uma etiqueta em forma de cadeia com o formato  \"Category X \", onde X é o número da categoria. O dicionário tem 17 chaves (de 0 a 16), cada uma representando uma categoria diferente. \n",
    "\n",
    "Esse dicionário pode ser usado mais tarde para rotular as imagens em cada conjunto de acordo com suas categorias."
   ]
  },
  {
   "cell_type": "code",
   "execution_count": 6,
   "id": "92dbae46-8298-429a-a286-edbd71ba23da",
   "metadata": {},
   "outputs": [
    {
     "name": "stdout",
     "output_type": "stream",
     "text": [
      "{0: 'Category 0', 1: 'Category 1', 2: 'Category 2', 3: 'Category 3', 4: 'Category 4', 5: 'Category 5', 6: 'Category 6', 7: 'Category 7', 8: 'Category 8', 9: 'Category 9', 10: 'Category 10', 11: 'Category 11', 12: 'Category 12', 13: 'Category 13', 14: 'Category 14', 15: 'Category 15', 16: 'Category 16'}\n"
     ]
    }
   ],
   "source": [
    "# Dividir las imágenes según los splits\n",
    "train_files = [image_files[i] for i in train_idx]\n",
    "val_files = [image_files[i] for i in val_idx]\n",
    "test_files = [image_files[i] for i in test_idx]\n",
    "\n",
    "# Crear un diccionario para asignar etiquetas (0-16)\n",
    "categories = {i: f\"Category {i}\" for i in range(0, 17)}\n",
    "\n",
    "print(categories)"
   ]
  },
  {
   "cell_type": "markdown",
   "id": "4ce20667-81af-4cbb-81a1-23ef656ec344",
   "metadata": {},
   "source": [
    "O código processa as imagens de forma eficiente, etiqueta-as com base no índice e organiza-as em lotes para serem alimentadas ao modelo. Além disso, garante que as imagens tenham o tamanho adequado para o modelo e normaliza os valores de pixel."
   ]
  },
  {
   "cell_type": "code",
   "execution_count": 7,
   "id": "5353b697-ad25-44a7-9785-22a487fc8b94",
   "metadata": {},
   "outputs": [],
   "source": [
    "# Preprocesamiento: Generadores de imágenes\n",
    "def preprocess_dataset(file_paths, labels, batch_size=32, target_size=(224, 224)):\n",
    "    datagen = ImageDataGenerator(rescale=1./255)\n",
    "    dataset = tf.data.Dataset.from_tensor_slices((file_paths, labels))\n",
    "    dataset = dataset.map(lambda x, y: (tf.image.resize(tf.image.decode_jpeg(tf.io.read_file(x), channels=3), target_size), y))\n",
    "    dataset = dataset.batch(batch_size).prefetch(buffer_size=tf.data.AUTOTUNE)\n",
    "    return dataset\n",
    "\n",
    "#Etiquetas\n",
    "train_labels = [int(i // 80) for i in train_idx]  # Rango 0-16\n",
    "val_labels = [int(i // 80) for i in val_idx]\n",
    "test_labels = [int(i // 80) for i in test_idx]"
   ]
  },
  {
   "cell_type": "markdown",
   "id": "124d393b-302d-47ca-aed6-aec661fabce0",
   "metadata": {},
   "source": [
    "Prepara os três conjuntos de dados para serem usados no modelo, garantindo que as imagens sejam adequadamente pré-processadas, carregadas em lotes e otimizadas para uso durante o treinamento e avaliação."
   ]
  },
  {
   "cell_type": "code",
   "execution_count": 8,
   "id": "c1c7a722-d75f-4585-a7bc-8108da287873",
   "metadata": {},
   "outputs": [],
   "source": [
    "# Crear datasets\n",
    "train_ds = preprocess_dataset(train_files, train_labels)\n",
    "val_ds = preprocess_dataset(val_files, val_labels)\n",
    "test_ds = preprocess_dataset(test_files, test_labels)\n"
   ]
  },
  {
   "cell_type": "markdown",
   "id": "e5054304-f849-426c-81f1-213e81f99d5f",
   "metadata": {},
   "source": [
    "Este código usa o ResNet50 pré-treinado como um extrato de recursos, e adiciona camadas adicionais para se adequar a um problema de classificação multiclase com 17 categorias. O modelo é congelado na base e otimizado usando o otimizador Adam, configurando a perda como sparse_categorical_crossentropy e a métrica de avaliação como accuracy."
   ]
  },
  {
   "cell_type": "code",
   "execution_count": 9,
   "id": "1bd52d19-ff95-4a9b-abe6-49c5dfeb59ce",
   "metadata": {},
   "outputs": [],
   "source": [
    "# Modelo: Usar ResNet50 preentrenado\n",
    "base_model = ResNet50(weights=\"imagenet\", include_top=False, input_shape=(224, 224, 3))\n",
    "base_model.trainable = False  # Congelar pesos\n",
    "\n",
    "model = models.Sequential([\n",
    "    base_model,\n",
    "    layers.GlobalAveragePooling2D(),\n",
    "    layers.Dense(256, activation=\"relu\"),\n",
    "    layers.Dropout(0.5),\n",
    "    layers.Dense(17, activation=\"softmax\")  # 17 categorías\n",
    "])\n",
    "\n",
    "model.compile(optimizer=\"adam\", loss=\"sparse_categorical_crossentropy\", metrics=[\"accuracy\"])\n",
    "\n"
   ]
  },
  {
   "cell_type": "markdown",
   "id": "3a88421b-0796-4b9b-9cd8-1fe34515b137",
   "metadata": {},
   "source": [
    "Treinamos o modelo com as imagens de treinamento"
   ]
  },
  {
   "cell_type": "code",
   "execution_count": 10,
   "id": "be45fb66-6885-403e-ad98-17d2ae123def",
   "metadata": {},
   "outputs": [
    {
     "name": "stdout",
     "output_type": "stream",
     "text": [
      "Epoch 1/10\n",
      "\u001b[1m22/22\u001b[0m \u001b[32m━━━━━━━━━━━━━━━━━━━━\u001b[0m\u001b[37m\u001b[0m \u001b[1m100s\u001b[0m 4s/step - accuracy: 0.0329 - loss: 6.4803 - val_accuracy: 0.1353 - val_loss: 2.8845\n",
      "Epoch 2/10\n",
      "\u001b[1m22/22\u001b[0m \u001b[32m━━━━━━━━━━━━━━━━━━━━\u001b[0m\u001b[37m\u001b[0m \u001b[1m79s\u001b[0m 4s/step - accuracy: 0.0900 - loss: 3.7696 - val_accuracy: 0.4765 - val_loss: 2.1694\n",
      "Epoch 3/10\n",
      "\u001b[1m22/22\u001b[0m \u001b[32m━━━━━━━━━━━━━━━━━━━━\u001b[0m\u001b[37m\u001b[0m \u001b[1m75s\u001b[0m 3s/step - accuracy: 0.2947 - loss: 2.2727 - val_accuracy: 0.6206 - val_loss: 1.7253\n",
      "Epoch 4/10\n",
      "\u001b[1m22/22\u001b[0m \u001b[32m━━━━━━━━━━━━━━━━━━━━\u001b[0m\u001b[37m\u001b[0m \u001b[1m73s\u001b[0m 3s/step - accuracy: 0.4238 - loss: 1.9347 - val_accuracy: 0.7412 - val_loss: 1.3654\n",
      "Epoch 5/10\n",
      "\u001b[1m22/22\u001b[0m \u001b[32m━━━━━━━━━━━━━━━━━━━━\u001b[0m\u001b[37m\u001b[0m \u001b[1m73s\u001b[0m 3s/step - accuracy: 0.5438 - loss: 1.5160 - val_accuracy: 0.7824 - val_loss: 1.0794\n",
      "Epoch 6/10\n",
      "\u001b[1m22/22\u001b[0m \u001b[32m━━━━━━━━━━━━━━━━━━━━\u001b[0m\u001b[37m\u001b[0m \u001b[1m73s\u001b[0m 3s/step - accuracy: 0.6187 - loss: 1.3430 - val_accuracy: 0.8265 - val_loss: 0.8597\n",
      "Epoch 7/10\n",
      "\u001b[1m22/22\u001b[0m \u001b[32m━━━━━━━━━━━━━━━━━━━━\u001b[0m\u001b[37m\u001b[0m \u001b[1m74s\u001b[0m 3s/step - accuracy: 0.6810 - loss: 1.0697 - val_accuracy: 0.8441 - val_loss: 0.7448\n",
      "Epoch 8/10\n",
      "\u001b[1m22/22\u001b[0m \u001b[32m━━━━━━━━━━━━━━━━━━━━\u001b[0m\u001b[37m\u001b[0m \u001b[1m73s\u001b[0m 3s/step - accuracy: 0.7352 - loss: 0.9079 - val_accuracy: 0.8471 - val_loss: 0.6487\n",
      "Epoch 9/10\n",
      "\u001b[1m22/22\u001b[0m \u001b[32m━━━━━━━━━━━━━━━━━━━━\u001b[0m\u001b[37m\u001b[0m \u001b[1m73s\u001b[0m 3s/step - accuracy: 0.8075 - loss: 0.6871 - val_accuracy: 0.8647 - val_loss: 0.5430\n",
      "Epoch 10/10\n",
      "\u001b[1m22/22\u001b[0m \u001b[32m━━━━━━━━━━━━━━━━━━━━\u001b[0m\u001b[37m\u001b[0m \u001b[1m73s\u001b[0m 3s/step - accuracy: 0.8212 - loss: 0.6240 - val_accuracy: 0.8647 - val_loss: 0.5079\n"
     ]
    }
   ],
   "source": [
    "# Entrenamiento\n",
    "history = model.fit(train_ds, validation_data=val_ds, epochs=10, batch_size=32)\n"
   ]
  },
  {
   "cell_type": "markdown",
   "id": "8a910a93-a969-44ff-8671-7eb4c43ec807",
   "metadata": {},
   "source": [
    "Durante o treinamento do modelo, há uma melhoria constante na precisão e redução da perda ao longo dos 10 tempos. No início, a precisão é baixa, tanto no conjunto de treinamento (3,29% aprox) como no conjunto de validação (13,53% aprox), o que é esperado. No entanto, à medida que as eras avançam, o modelo começa a aprender melhor, com uma precisão no conjunto de treinamento que atinge 82,12% na última época e uma precisão de validação que melhora até 86,47% aprox. A perda também diminui consistentemente, indicando que o modelo está ajustando adequadamente seus parâmetros. Estes resultados sugerem que o modelo está aprendendo a classificar corretamente as 17 categorias sem superajuste, alcançando um bom desempenho no conjunto de validação."
   ]
  },
  {
   "cell_type": "markdown",
   "id": "69077ee8-6241-438c-b2bc-4b500b041e0b",
   "metadata": {},
   "source": [
    "Después de completar el entrenamiento, el modelo se evalúa utilizando el conjunto de datos de prueba (test_ds)."
   ]
  },
  {
   "cell_type": "code",
   "execution_count": 11,
   "id": "dfc4a43c-5d42-40f6-a621-09fff322fc5c",
   "metadata": {},
   "outputs": [
    {
     "name": "stdout",
     "output_type": "stream",
     "text": [
      "\u001b[1m11/11\u001b[0m \u001b[32m━━━━━━━━━━━━━━━━━━━━\u001b[0m\u001b[37m\u001b[0m \u001b[1m25s\u001b[0m 2s/step - accuracy: 0.8676 - loss: 0.4462\n",
      "Test Accuracy: 0.88\n"
     ]
    }
   ],
   "source": [
    "# Evaluación\n",
    "test_loss, test_accuracy = model.evaluate(test_ds)\n",
    "print(f\"Test Accuracy: {test_accuracy:.2f}\")\n"
   ]
  },
  {
   "cell_type": "markdown",
   "id": "4d89ab09-1363-46ee-a939-6959aabf2b7c",
   "metadata": {},
   "source": [
    "Os resultados mostram uma precisão de teste de 86,76% aprox e uma perda de 0,4462 aprox. Finalmente, o valor da precisão do teste é impresso como 88% aprox. Estes resultados indicam que o modelo tem um bom desempenho geral no conjunto de teste, alcançando uma precisão bastante alta, sugerindo que aprendeu a generalizar bem para novos dados não vistos durante o treinamento e validação."
   ]
  },
  {
   "cell_type": "markdown",
   "id": "21ccc357-52d4-4984-bd70-76e1f76a372b",
   "metadata": {},
   "source": [
    "Após a previsão do conjunto de testes, o relatório de classificação é calculado, que inclui métricas como precisão, lembrete e f1-score para cada uma das 17 categorias."
   ]
  },
  {
   "cell_type": "code",
   "execution_count": 12,
   "id": "fe0b1df6-0320-4e25-bf6a-3fc7add4a652",
   "metadata": {},
   "outputs": [
    {
     "name": "stdout",
     "output_type": "stream",
     "text": [
      "\u001b[1m11/11\u001b[0m \u001b[32m━━━━━━━━━━━━━━━━━━━━\u001b[0m\u001b[37m\u001b[0m \u001b[1m34s\u001b[0m 3s/step\n",
      "              precision    recall  f1-score   support\n",
      "\n",
      "  Category 0       0.83      0.75      0.79        20\n",
      "  Category 1       0.78      0.90      0.84        20\n",
      "  Category 2       0.95      0.90      0.92        20\n",
      "  Category 3       0.95      0.90      0.92        20\n",
      "  Category 4       0.89      0.80      0.84        20\n",
      "  Category 5       0.95      0.90      0.92        20\n",
      "  Category 6       0.90      0.90      0.90        20\n",
      "  Category 7       0.61      0.70      0.65        20\n",
      "  Category 8       0.90      0.95      0.93        20\n",
      "  Category 9       1.00      1.00      1.00        20\n",
      " Category 10       1.00      1.00      1.00        20\n",
      " Category 11       0.91      1.00      0.95        20\n",
      " Category 12       1.00      0.80      0.89        20\n",
      " Category 13       0.75      0.75      0.75        20\n",
      " Category 14       0.94      0.80      0.86        20\n",
      " Category 15       0.95      0.95      0.95        20\n",
      " Category 16       0.80      1.00      0.89        20\n",
      "\n",
      "    accuracy                           0.88       340\n",
      "   macro avg       0.89      0.88      0.88       340\n",
      "weighted avg       0.89      0.88      0.88       340\n",
      "\n"
     ]
    }
   ],
   "source": [
    "# Predicción y métricas\n",
    "y_pred = np.argmax(model.predict(test_ds), axis=-1)\n",
    "print(classification_report(test_labels, y_pred, target_names=[categories[i] for i in range(0, 17)]))\n"
   ]
  },
  {
   "cell_type": "markdown",
   "id": "adfe7927-a885-48c4-8da3-65ff2ccf2185",
   "metadata": {},
   "source": [
    "O relatório de classificação obtido após a realização da previsão sobre o conjunto de teste mostra que o modelo tem um bom desempenho geral, com uma precisão de 88% aproximadamente. A precisão das diferentes categorias varia, chegando a valores próximos de 1,0 em categorias como 9, 10, 11 e 12, o que indica que o modelo faz previsões muito acertadas nestas classes. A lembrança também é alta para muitas categorias, especialmente nas categorias 9 e 10, onde o modelo tem uma lembrança de 100%. No entanto, em algumas categorias, como 7, a lembrança é menor (70%), o que sugere que o modelo tem mais dificuldade para prever corretamente essas classes. O f1-score, que combina precisão e lembrança, também mostra bons resultados, com valores próximos a 1,0 na maioria das categorias. Em resumo, o modelo tem um bom desempenho global, mas algumas categorias, como a categoria 7, poderiam beneficiar de mais dados ou ajustes específicos para melhorar sua precisão e lembrança."
   ]
  },
  {
   "cell_type": "code",
   "execution_count": 13,
   "id": "30120e77-fc35-4ea1-bad6-7961bc3e2f0e",
   "metadata": {},
   "outputs": [
    {
     "data": {
      "image/png": "[encoded data removed]",
      "text/plain": [
       "<Figure size 1000x800 with 2 Axes>"
      ]
     },
     "metadata": {},
     "output_type": "display_data"
    }
   ],
   "source": [
    "# Matriz de confusión\n",
    "cm = confusion_matrix(test_labels, y_pred)\n",
    "plt.figure(figsize=(10, 8))\n",
    "plt.imshow(cm, cmap=\"Blues\")\n",
    "plt.colorbar()\n",
    "plt.title(\"Confusion Matrix\")\n",
    "plt.show()"
   ]
  },
  {
   "cell_type": "markdown",
   "id": "fe574d17-fe32-41e4-8eb0-540f652b7d30",
   "metadata": {},
   "source": [
    "Cada linha representa as verdadeiras etiquetas (labels) e cada coluna mostra as previsões do modelo. Na diagonal principal estão os valores mais altos, indicando que o modelo classificou corretamente a maioria das instâncias de cada categoria. Os valores mais baixos fora da diagonal refletem os casos em que o modelo cometeu erros de classificação, embora em geral, parece que o modelo tem um bom desempenho com uma alta concentração de valores na diagonal, o que é consistente com as métricas acima. \n",
    "\n",
    "O mapa de cores destaca a quantidade de vezes que uma previsão foi feita para cada classe, mostrando que algumas categorias têm mais instâncias corretamente predichas, enquanto outras, como categoria 7, parecem ter mais erros. No entanto, a maioria das categorias tem uma distribuição bastante precisa ao longo da diagonal."
   ]
  }
 ],
 "metadata": {
  "kernelspec": {
   "display_name": "Python 3 (ipykernel)",
   "language": "python",
   "name": "python3"
  },
  "language_info": {
   "codemirror_mode": {
    "name": "ipython",
    "version": 3
   },
   "file_extension": ".py",
   "mimetype": "text/x-python",
   "name": "python",
   "nbconvert_exporter": "python",
   "pygments_lexer": "ipython3",
   "version": "3.11.7"
  }
 },
 "nbformat": 4,
 "nbformat_minor": 5
}
